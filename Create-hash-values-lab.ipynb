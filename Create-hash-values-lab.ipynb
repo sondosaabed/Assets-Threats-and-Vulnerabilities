{
 "cells": [
  {
   "cell_type": "markdown",
   "metadata": {},
   "source": [
    "##  Activity: Create hash values \n",
    "\n",
    "In this scenario, we need to investigate whether two files are identical or different."
   ]
  },
  {
   "cell_type": "markdown",
   "metadata": {},
   "source": [
    "- compute hashes using sha256sum,\n",
    "- display hashes using the cat command, and\n",
    "- compare hashes using the cmp command."
   ]
  },
  {
   "cell_type": "markdown",
   "metadata": {},
   "source": [
    "![image](https://github.com/user-attachments/assets/db101b2a-013c-4e83-9d05-945ac242bf6a)"
   ]
  }
 ],
 "metadata": {
  "language_info": {
   "name": "python"
  }
 },
 "nbformat": 4,
 "nbformat_minor": 2
}
